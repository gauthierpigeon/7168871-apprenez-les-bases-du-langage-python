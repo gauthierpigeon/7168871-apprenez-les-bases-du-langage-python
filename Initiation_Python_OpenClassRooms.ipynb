{
  "nbformat": 4,
  "nbformat_minor": 0,
  "metadata": {
    "colab": {
      "provenance": [],
      "authorship_tag": "ABX9TyMFcRe0OBBBR4LI/xLZqIGn",
      "include_colab_link": true
    },
    "kernelspec": {
      "name": "python3",
      "display_name": "Python 3"
    },
    "language_info": {
      "name": "python"
    }
  },
  "cells": [
    {
      "cell_type": "markdown",
      "metadata": {
        "id": "view-in-github",
        "colab_type": "text"
      },
      "source": [
        "<a href=\"https://colab.research.google.com/github/gauthierpigeon/7168871-apprenez-les-bases-du-langage-python/blob/main/Initiation_Python_OpenClassRooms.ipynb\" target=\"_parent\"><img src=\"https://colab.research.google.com/assets/colab-badge.svg\" alt=\"Open In Colab\"/></a>"
      ]
    },
    {
      "cell_type": "code",
      "source": [
        "compteEpargne = 10000\n",
        "taux = 0.75\n",
        "\n",
        "interets = compteEpargne * (taux/100)\n",
        "\n",
        "interets = int(interets)\n",
        "\n",
        "print (interets)"
      ],
      "metadata": {
        "colab": {
          "base_uri": "https://localhost:8080/"
        },
        "id": "Kbrk0gO3fYPT",
        "outputId": "70d92ad0-e460-40d8-8a7b-c7ab5ad79afe"
      },
      "execution_count": null,
      "outputs": [
        {
          "output_type": "stream",
          "name": "stdout",
          "text": [
            "75\n"
          ]
        }
      ]
    },
    {
      "cell_type": "code",
      "source": [
        "#Défintiion d'une fonction\n",
        "def afficherPerimetre(cote1, cote2, cote3) :\n",
        "  perimetre = cote1 + cote2 + cote3\n",
        "  print (perimetre)\n",
        "\n",
        "afficherPerimetre (10,11,4)\n",
        "afficherPerimetre (2, 2, 3.5)"
      ],
      "metadata": {
        "colab": {
          "base_uri": "https://localhost:8080/"
        },
        "id": "CbPnieolh-AK",
        "outputId": "e12f039d-dc20-4f76-f0a2-c61368bb679e"
      },
      "execution_count": null,
      "outputs": [
        {
          "output_type": "stream",
          "name": "stdout",
          "text": [
            "25\n",
            "7.5\n"
          ]
        }
      ]
    },
    {
      "cell_type": "code",
      "source": [
        "#Défintion d'une valeur retournée\n",
        "def calculPerimetre (cote1, cote2, cote3) :\n",
        "  perimetre = cote1 + cote2 + cote3\n",
        "  return perimetre\n",
        "\n",
        "perimetre1 = calculPerimetre(6, 4, 3)\n",
        "perimetre2 = calculPerimetre (10, 3, 11)\n",
        "\n",
        "print (\"le périmètre de mon premier triangle est\", perimetre1, \"et celle de mon second est\", perimetre2)"
      ],
      "metadata": {
        "colab": {
          "base_uri": "https://localhost:8080/"
        },
        "id": "cc11OonmjiQ_",
        "outputId": "8de5f6dd-08b9-48e3-adda-e653c6e834b2"
      },
      "execution_count": null,
      "outputs": [
        {
          "output_type": "stream",
          "name": "stdout",
          "text": [
            "le périmètre de mon premier triangle est 13 et celle de mon second est 24\n"
          ]
        }
      ]
    },
    {
      "cell_type": "code",
      "source": [
        "#Programmation orientée objet\n",
        "  var1 = 14\n",
        "  var2 = 1031\n",
        "  # En réalité, il s'agit de deux instance de classe INT\n",
        "  # Ces deux objets ayant chacun un seul attribut : sa valeur\n",
        "\n",
        "  # Méthode de classe = fonction qui n'est dispo que pour les instances de cette classe\n",
        "  #L'utilisation d'une méthode est réalisée via la notation nomVariable.méthode()\n",
        "  #Exemple : méthode lower() pour les strings"
      ],
      "metadata": {
        "id": "dEkH13xxn4HM"
      },
      "execution_count": null,
      "outputs": []
    },
    {
      "cell_type": "code",
      "source": [
        "maPhrase =\"JE SUIS ENERVE !!\"\n",
        "maPhrase = maPhrase.lower()\n",
        "print (maPhrase)\n",
        "print(maPhrase.replace(\"enerve\",\"calme\"))\n"
      ],
      "metadata": {
        "colab": {
          "base_uri": "https://localhost:8080/"
        },
        "id": "VJJl_ZdirCzG",
        "outputId": "bb9c0ce3-e503-4bd9-9600-7063006d31cb"
      },
      "execution_count": 26,
      "outputs": [
        {
          "output_type": "stream",
          "name": "stdout",
          "text": [
            "je suis enerve !!\n",
            "je suis calme !!\n"
          ]
        }
      ]
    },
    {
      "cell_type": "code",
      "source": [
        "#Déclarer une liste pour stocker des éléments\n",
        "nomClient = ['Georges Dupont', 'Luc Martin', 'Lucas Anderson', 'Alexandre Petit']\n",
        "nomClient[0] = 'Georges Dupond'\n",
        "print(nomClient[0])"
      ],
      "metadata": {
        "colab": {
          "base_uri": "https://localhost:8080/"
        },
        "id": "dcoelrHXeWUE",
        "outputId": "17de150e-c7f0-4c37-cb91-cdafec171080"
      },
      "execution_count": 1,
      "outputs": [
        {
          "output_type": "stream",
          "name": "stdout",
          "text": [
            "Georges Dupond\n"
          ]
        }
      ]
    },
    {
      "cell_type": "code",
      "source": [
        "nomClient = ['Georges Dupont', 'Luc Martin', 'Lucas Anderson', 'Alexandre Petit']\n",
        "#Afficher le dernier élément\n",
        "print(nomClient[-1])\n",
        "#Accéder du second élément au troisième\n",
        "print(nomClient[1:3])\n",
        "#Accéder à tous les éléments du début jusqu'au second\n",
        "print(nomClient[:2])"
      ],
      "metadata": {
        "colab": {
          "base_uri": "https://localhost:8080/"
        },
        "id": "r4Bhlx9dgSfC",
        "outputId": "1bee8717-c08c-4918-8485-68a9c5d09cf6"
      },
      "execution_count": 4,
      "outputs": [
        {
          "output_type": "stream",
          "name": "stdout",
          "text": [
            "Alexandre Petit\n",
            "['Luc Martin', 'Lucas Anderson']\n",
            "['Georges Dupont', 'Luc Martin']\n"
          ]
        }
      ]
    },
    {
      "cell_type": "code",
      "source": [
        "#Possibilité de stocker plusieurs éléments dans une même liste\n",
        "listeEtrange = [4, 10.2, 'Georges Dupond', [\"une autre liste\", 1]]\n",
        "#Afficher le 4eme élement de la liste\n",
        "print(listeEtrange[3])"
      ],
      "metadata": {
        "colab": {
          "base_uri": "https://localhost:8080/"
        },
        "id": "zJgXz9-Pi6_t",
        "outputId": "ebddd66a-7048-40e8-f6d7-8ffe97fa3aa9"
      },
      "execution_count": 6,
      "outputs": [
        {
          "output_type": "stream",
          "name": "stdout",
          "text": [
            "['une autre liste', 1]\n"
          ]
        }
      ]
    },
    {
      "cell_type": "code",
      "source": [
        "#Exercice : délarer une liste de couleurs avec 5 éléments :\n",
        "couleurs = ['rouge', 'jaune', 'orange', 'vert', 'bleu']\n",
        "couleurs[3] = 'émeraude'\n",
        "for couleur in couleurs :\n",
        "  print(couleur)"
      ],
      "metadata": {
        "colab": {
          "base_uri": "https://localhost:8080/"
        },
        "id": "2AdQ5VfXje96",
        "outputId": "0128b889-4d57-4fb5-c69d-8361f80cdb87"
      },
      "execution_count": 8,
      "outputs": [
        {
          "output_type": "stream",
          "name": "stdout",
          "text": [
            "rouge\n",
            "jaune\n",
            "orange\n",
            "émeraude\n",
            "bleu\n"
          ]
        }
      ]
    },
    {
      "cell_type": "code",
      "source": [
        "#Possibilité de créer une liste vide Python et ajouter des éléments via la méthode append\n",
        "liste = []\n",
        "liste.append(7)\n",
        "liste.append(5)\n",
        "print(liste)\n",
        "#Autres méthodes à connaitre autour des listes\n",
        "  # --> insert : pour insérer un nouvel élément à une position spécifique\n",
        "liste.insert(1, 12)\n",
        "print(liste)\n",
        "  #--> extend : similaire à append mais avec une autre liste\n",
        "  #--> remove : cherche l'élément donné  dans la liste et supprime la prmeière occurence rencontrée\n",
        "  ##--> del : pour supprimer un élément selon son indice\n",
        "  #--> index : permet de trouver l'indice de la première occurence d'un élément cherché dans notre liste\n",
        "  #Exemples :\n",
        "liste[0] = 4\n",
        "print(liste)\n",
        "liste.remove(12)\n",
        "print(liste)\n",
        "liste.index(5)\n",
        "liste.extend([1, 2, 3])\n",
        "print(liste)\n",
        "del liste[3]\n",
        "print(liste)"
      ],
      "metadata": {
        "colab": {
          "base_uri": "https://localhost:8080/"
        },
        "id": "l_DPbiwGle7_",
        "outputId": "b05d002b-36f2-47c4-fe9b-57df5a1d6fed"
      },
      "execution_count": 20,
      "outputs": [
        {
          "output_type": "stream",
          "name": "stdout",
          "text": [
            "[7, 5]\n",
            "[7, 12, 5]\n",
            "[4, 12, 5]\n",
            "[4, 5]\n",
            "[4, 5, 1, 2, 3]\n",
            "[4, 5, 1, 3]\n"
          ]
        }
      ]
    },
    {
      "cell_type": "code",
      "source": [
        "#Garder le controle de la liste\n",
        "  #--> la fonction len() permet de récupérer la taille de la liste\n",
        "liste = [1, 2, 3, 4]\n",
        "len(liste)"
      ],
      "metadata": {
        "colab": {
          "base_uri": "https://localhost:8080/"
        },
        "id": "B4Jll5ufsZBB",
        "outputId": "5382d0fb-1a22-4127-f0fe-89656fcab6df"
      },
      "execution_count": 22,
      "outputs": [
        {
          "output_type": "execute_result",
          "data": {
            "text/plain": [
              "4"
            ]
          },
          "metadata": {},
          "execution_count": 22
        }
      ]
    },
    {
      "cell_type": "code",
      "source": [
        "#Utiliser des dictionnaires\n",
        "  #--> Dictionnaire = liste d'éléments organisés via un système de clés\n",
        "#Déclarer un dictionnaire : utiliser des accolades (au lieu des crochets)\n",
        "comptes = {\"Georges Dupont\" : 10000, \"Luc Martin\" : 150, \"Lucas Anderson\" : 300, \"Alexandre it\" : 1800.74}\n",
        "print(comptes[\"Luc Martin\"])\n",
        "\n",
        "#Opérations fréquentes avec dictionnaire : accéder à la valeur, ajouter/supprimer un nouvel élément\n",
        "  #--> On peut accéder à une valeur / la modifiervia même notation qu'avec les listes\n",
        "comptes [\"Georges Dupont\"] -= 2000\n",
        "comptes [\"Cyril Andreje\"] = 1000\n",
        "print(comptes ['Cyril Andreje'])\n",
        "\n",
        "#Possibilité de supprimer un compte via la méthode pop()\n",
        "comptes.pop('Luc Martin')\n",
        "\n",
        "#De la même façon qua'avec les listes : on peut utiliser la fonction len() pour garder le contrôle surl'évolution di dictionnaire\n",
        "len(comptes)"
      ],
      "metadata": {
        "colab": {
          "base_uri": "https://localhost:8080/"
        },
        "id": "Wpg6HOK2t417",
        "outputId": "6cfcb5c7-c2c5-4d5c-f748-eba80d6cea91"
      },
      "execution_count": 5,
      "outputs": [
        {
          "output_type": "stream",
          "name": "stdout",
          "text": [
            "150\n",
            "1000\n"
          ]
        },
        {
          "output_type": "execute_result",
          "data": {
            "text/plain": [
              "4"
            ]
          },
          "metadata": {},
          "execution_count": 5
        }
      ]
    },
    {
      "cell_type": "code",
      "source": [
        "#Comprendre les Tuples\n",
        "  #--> Tuples = objets ordonnés. Possibilité d'y stocker tous types d'objets\n",
        "  #--> La différence : une fois déclaré : ne peut être modifié. Il n'est pas mutable\n",
        "#Déclarer un Tuple :\n",
        "mon_tuple = (1, 2, 3, 'a', 'b')\n",
        "print(mon_tuple[1])\n",
        "print(mon_tuple[4])\n",
        "#On peut aussi déclarer plusieurs variables en même tps à partir d'un tuple\n",
        "a, b = (1, 'pomme')\n",
        "print(a)\n",
        "print(b)"
      ],
      "metadata": {
        "colab": {
          "base_uri": "https://localhost:8080/"
        },
        "id": "RMoH5XpMNq9M",
        "outputId": "365a9d11-c286-4232-9bea-fb4f447b113e"
      },
      "execution_count": 7,
      "outputs": [
        {
          "output_type": "stream",
          "name": "stdout",
          "text": [
            "2\n",
            "b\n",
            "1\n",
            "pomme\n"
          ]
        }
      ]
    },
    {
      "cell_type": "code",
      "source": [
        "#Organiser le code grâce aux structures conditionnelles\n",
        "#Structure conditionnelle = booléen (if/else)\n",
        "#Exemple :\n",
        "nom = input('Quel est votre nom, cher inconnu ?')\n",
        "\n",
        "if len(nom) > 0:\n",
        "    print(\"Hello\", nom, \"!\")\n",
        "\n",
        "else:\n",
        "    print(\"Hello World !\")"
      ],
      "metadata": {
        "colab": {
          "base_uri": "https://localhost:8080/"
        },
        "id": "o9gkSLHkRJwP",
        "outputId": "49d70e56-21bd-4f15-ff94-9488bd683050"
      },
      "execution_count": 14,
      "outputs": [
        {
          "output_type": "stream",
          "name": "stdout",
          "text": [
            "Quel est votre nom, cher inconnu ?Gauthier\n",
            "Hello Gauthier !\n"
          ]
        }
      ]
    },
    {
      "cell_type": "code",
      "source": [
        "#Utiliser les booléens :\n",
        "  #--> Pour valider une condition : utliser un booléen.\n",
        "  #--> Booléne = variable qui ne peut contenir que deux valeurs : True / False\n",
        "ceCoursEstGenial = True\n",
        "sonAuteurestTresHumble = False\n",
        "#Dans une strcuture conditionnelle if, il faut absolument que ce qui suit if aboutisse à un booléen :\n",
        "  #--> une valeur True ou False. Exemple : if True\n",
        "  #--> une variable de type booléen. Exemple if MaVariable: où maVariable est un booléen\n",
        "  #--> une expression qui aboutit à une valeur booléenne\n",
        "  #Exemple :\n",
        "meteo = \"la meteo est chouette\"\n",
        "meteo.startswith(\"la meteo\")\n",
        "  #Startwith est une méthode de la classe string qui retourne true quand la chaine de caractères commence exactement par le string passé en paramètre\n",
        "\n",
        "#Pour produire des booléens, on peut aussi utiliser des opérateurs de comparaison\n",
        "  #--> 6 opérateurs de comparaison principaux :\n",
        "    # == : égale à\n",
        "    #!= : différent de\n",
        "    #< : inférieur à\n",
        "    #<= : inférieur ou égal à\n",
        "    #> : supérieur à\n",
        "    #>= : supérieur ou égal à\n",
        "2 == 2\n",
        "2 == 3\n",
        "4 != 4\n",
        "4 != 5\n",
        "\n",
        "#On peut assigner le résultat de ces opérations à une variable :\n",
        "age = 15\n",
        "if age >= 21:"
      ],
      "metadata": {
        "id": "rQ5f4XoTU9MB"
      },
      "execution_count": null,
      "outputs": []
    },
    {
      "cell_type": "code",
      "source": [
        "#Opérateurs logiques : permettent de mixer plusieurs valeurs booléennes. Il y en a 3 :\n",
        "  #and : l'opérateur ET\n",
        "  #or : l'opérateur OU\n",
        "  #not : l'pérateur N'EST PAS\n",
        "True and True\n",
        "True or False\n",
        "not(True)\n",
        "True and True and False\n",
        "False or False or False\n",
        "not(False) and True or False"
      ],
      "metadata": {
        "id": "jx5LYgtifS2j"
      },
      "execution_count": null,
      "outputs": []
    },
    {
      "cell_type": "code",
      "source": [
        "#L'opérateur \"in\"\n",
        "  #--> Renvoie True lorsqu'une valeur est trouvée dans une séquence (False sinon)\n",
        "  #Exemple :\n",
        "\n",
        "maListe = [4, 2, 3, 2, 10]\n",
        "malisteDeString = [\"a\", \"b\", \"c\", \"d\"]\n",
        "monString = \"La météo est vraiment bien aujourd'hui !\"\n",
        "\n",
        "4 in maListe\n",
        "0 in maListe\n",
        "0 in malisteDeString\n",
        "\"c\" in malisteDeString\n",
        "\"e\" in malisteDeString\n",
        "\"météo\" in monString\n",
        "\"vraiment\" in monString\n",
        "\"pluie\" in monString"
      ],
      "metadata": {
        "colab": {
          "base_uri": "https://localhost:8080/"
        },
        "id": "yQmVn-rEgMyj",
        "outputId": "ded6a7bb-2301-4a36-a574-04e3996f7bc7"
      },
      "execution_count": 29,
      "outputs": [
        {
          "output_type": "execute_result",
          "data": {
            "text/plain": [
              "False"
            ]
          },
          "metadata": {},
          "execution_count": 29
        }
      ]
    },
    {
      "cell_type": "code",
      "source": [
        "#Gérer un enchainement de conditions :\n",
        "  #--> Possibilité d'enchaine plusieurs conditions grâce à elif\n",
        "  #Exemple :\n",
        "\n",
        "compte = input(\"Quel est le solde de votre compte ?\")\n",
        "compte = int(compte)\n",
        "\n",
        "if compte >= 10000:\n",
        "  print(\"Prêt accordé !\")\n",
        "elif compte >= 100 and compte < 10000:\n",
        "  print(\"Prêt en cours de validation : à l'étude\")\n",
        "else:\n",
        "  print(\"Prêt refusé\")\n"
      ],
      "metadata": {
        "colab": {
          "base_uri": "https://localhost:8080/"
        },
        "id": "Eyhr5gAbhjEh",
        "outputId": "ebdab238-b6b2-42f8-8d08-b7d63a569228"
      },
      "execution_count": 31,
      "outputs": [
        {
          "output_type": "stream",
          "name": "stdout",
          "text": [
            "Quel est le solde de votre compte ?15000\n",
            "Prêt accordé !\n"
          ]
        }
      ]
    },
    {
      "cell_type": "code",
      "source": [
        "#Boucles : strcuture permettant de répéter une ou plusieurs instructions\n",
        "#Deux types de boulces : For & Wile\n",
        "\n",
        "#Boucle FOR : pour boucler un nombre de fois fixé\n",
        "myList = [7, 2, 4, 10]\n",
        "for elt in myList:\n",
        "  print(elt)\n",
        "\n",
        "#Possibilité d'itérer via un string :\n",
        "monString = \"Elements\"\n",
        "for elt in monString:\n",
        "  print(elt)"
      ],
      "metadata": {
        "id": "1Ua5hqM3k4eH"
      },
      "execution_count": null,
      "outputs": []
    },
    {
      "cell_type": "code",
      "source": [
        "#Boucle for via une valeur itérative entière\n",
        "for i in range(0, 5, 1):\n",
        "  print(i)\n",
        "for i in range(0,5):\n",
        "  print(i)\n",
        "for i in range (5):\n",
        "  print(i)\n",
        "for i in range (0, 5, 2):\n",
        "  print (i)"
      ],
      "metadata": {
        "id": "ktKsgBDqtTKZ"
      },
      "execution_count": null,
      "outputs": []
    },
    {
      "cell_type": "code",
      "source": [
        "#Boucle conditionnelle (WHILE) : n'itère pas via une collection mais selon une condition\n",
        "#--> La boucle tourne tant que la condition est réalisée\n",
        "#Exemple :\n",
        "nombreArbres = 0\n",
        "while nombreArbres < 10:\n",
        "  nombreArbres +=1\n",
        "  print(\"Jai planté\", nombreArbres, \"arbres\")\n",
        "print(\"J'ai une chouette forêt !\")"
      ],
      "metadata": {
        "colab": {
          "base_uri": "https://localhost:8080/"
        },
        "id": "pGQNxVg7t2mk",
        "outputId": "688c03d7-9501-4d1e-df03-26bc1d65fab3"
      },
      "execution_count": 41,
      "outputs": [
        {
          "output_type": "stream",
          "name": "stdout",
          "text": [
            "Jai planté 1 arbres\n",
            "Jai planté 2 arbres\n",
            "Jai planté 3 arbres\n",
            "Jai planté 4 arbres\n",
            "Jai planté 5 arbres\n",
            "Jai planté 6 arbres\n",
            "Jai planté 7 arbres\n",
            "Jai planté 8 arbres\n",
            "Jai planté 9 arbres\n",
            "Jai planté 10 arbres\n",
            "J'ai une chouette forêt !\n"
          ]
        }
      ]
    },
    {
      "cell_type": "code",
      "source": [
        "#Exercice :\n",
        "#Créez une boucle for qui va afficher : 'OpenClassRooms est vraiment top !' 5 fois\n",
        "for i in range (0, 5):\n",
        "  print('Open class rooms est vraiment top')\n",
        "#Changez votre boucle for par une boucle while :\n",
        "elt = 0\n",
        "while elt < 5 :\n",
        "  elt +=1\n",
        "  print('Open class rooms est vraiment top')"
      ],
      "metadata": {
        "id": "yWAfBeYnyZXF"
      },
      "execution_count": null,
      "outputs": []
    },
    {
      "cell_type": "code",
      "source": [
        "#Passer des instructions au sein d'une boucle :\n",
        "#Exemple : répéter qqch 10 fois mais passer lorsque la valeur est égale à 2 ou 5\n",
        "  #--> Pour cela, utiliser le mot clé COntinue\n",
        "for i in range(10):\n",
        "  print(i)\n",
        "  if(i==2) or (i==5):\n",
        "    print(\"Cas spécial\")\n",
        "    continue\n",
        "  print(\"i!=2 & i !=5\")"
      ],
      "metadata": {
        "colab": {
          "base_uri": "https://localhost:8080/"
        },
        "id": "nxejS4Rdy5B6",
        "outputId": "b238aa3a-cdcb-4d41-886a-fb46359304fb"
      },
      "execution_count": 51,
      "outputs": [
        {
          "output_type": "stream",
          "name": "stdout",
          "text": [
            "0\n",
            "i!=2 & i !=5\n",
            "1\n",
            "i!=2 & i !=5\n",
            "2\n",
            "Cas spécial\n",
            "3\n",
            "i!=2 & i !=5\n",
            "4\n",
            "i!=2 & i !=5\n",
            "5\n",
            "Cas spécial\n",
            "6\n",
            "i!=2 & i !=5\n",
            "7\n",
            "i!=2 & i !=5\n",
            "8\n",
            "i!=2 & i !=5\n",
            "9\n",
            "i!=2 & i !=5\n"
          ]
        }
      ]
    },
    {
      "cell_type": "code",
      "source": [
        "#Possibilité d'interrompre la boucle quand on cherche un élément particulier dans une liste\n",
        "  #--> Pour cela : utilisation de break\n",
        "  #Exemple :\n",
        "panier = [\"pomme\",\"orange\",\"banane\"]\n",
        "\n",
        "for fruit in panier :\n",
        "  if fruit ==\"orange\":\n",
        "      print(\"J'ai une\", fruit, \"!\")\n",
        "      break"
      ],
      "metadata": {
        "colab": {
          "base_uri": "https://localhost:8080/"
        },
        "id": "vz_kqzs20D3c",
        "outputId": "2188ef54-37f0-4d6f-f1be-355fafc927b8"
      },
      "execution_count": 53,
      "outputs": [
        {
          "output_type": "stream",
          "name": "stdout",
          "text": [
            "J'ai une orange !\n"
          ]
        }
      ]
    },
    {
      "cell_type": "code",
      "source": [
        "#Modules et Librairies Python\n",
        "#Module = fichier qui contient un ens de fonctions / classes / variables prédfinies et fonctionnelles\n",
        "...\n",
        "Module geometry.py\n",
        "...\n",
        "#variables\n",
        "pi = 3.14159265359\n",
        "phi = 1.6180\n",
        "#Fonction qui calcule l'aire\n",
        "def aire(obj):\n",
        "  if type(obj) == carre:\n",
        "    return obj.a**2\n",
        "#Definitions de qlq classes\n",
        "class carre(object):\n",
        "  def __init__(self,a):\n",
        "    self.a = a\n",
        "\n",
        "class triangle(object):\n",
        "  def __init__(self,a,b,c):\n",
        "    self.a = a\n",
        "    self.b = b\n",
        "    self.c = c\n",
        "...\n",
        "#Pour importer un module : besoin du mot clé import\n",
        "import geometry\n",
        "#Apres cela, on peut utiliser les éléments définis dans le module :\n",
        "car = geometry.carre(4)\n",
        "tri = geometry.triangle(3, 6, 5)\n",
        "print(gemoetry.pi)\n",
        "\n",
        "#Tous les elements du modeul peuvent être appelés via la notation nomModule.fonction() ou nomModule.variable\n",
        "#Sinon, possibilité de donner un alias :\n",
        "import geometry as geo\n",
        "#Ou importer des fonctions spécifique utilisables comme des fonctions/avraibles Python natives (sans la notation .)\n",
        "from geometry import pi\n",
        "print(pi)"
      ],
      "metadata": {
        "id": "6Lhhdc2xy4ZJ"
      },
      "execution_count": null,
      "outputs": []
    },
    {
      "cell_type": "code",
      "source": [
        "#Quand un module ne suffit pas : les packages\n",
        "#Un package (ou librairie) = ensemble de modules Python\n",
        "#Package = fichier contenant plusieurs fichiers Python (.py) et un fichier additionnel nomm& __init__.py\n",
        "#Besoin d'utiliser l'opérateur . pour accéder au module après avoir importé le package :\n",
        "import geometry\n",
        "print(geometry.variables.pi)\n",
        "car = geometry.classes.carre(4)\n",
        "geometry.fonctions.aire(car)\n",
        "#Ou bien possibilité d'importer seulement un mdoule du package :\n",
        "import geometry.variables as var\n",
        "print(var.pi)"
      ],
      "metadata": {
        "id": "5cCmWc7d4t9O"
      },
      "execution_count": null,
      "outputs": []
    },
    {
      "cell_type": "code",
      "source": [
        "#Manipuler des nombres aléatoires avec le module Random\n",
        "#Random : génère un float aléatoire en 0 et 1 (non inclus)\n",
        "import random\n",
        "for i in range(3):\n",
        "  print(random.random())"
      ],
      "metadata": {
        "colab": {
          "base_uri": "https://localhost:8080/"
        },
        "id": "Kyjea88s9T4I",
        "outputId": "8348e033-62cd-49a6-b266-74a9c5c16552"
      },
      "execution_count": 4,
      "outputs": [
        {
          "output_type": "stream",
          "name": "stdout",
          "text": [
            "0.9292248524439695\n",
            "0.6781144748062937\n",
            "0.3533703332535568\n"
          ]
        }
      ]
    },
    {
      "cell_type": "code",
      "source": [
        "#D'autres fonctions permettent de générer un nombre aléatoire dans un intervalle donné :\n",
        "  #--> uniform(a, b) : génére un float aléatoire entre a et b\n",
        "  #--> randint (a, b) similaire à uniform mais génére un aléatoire entier\n",
        "print('Exemple de la fonction uniform:')\n",
        "for i in range (3):\n",
        "  print(random.uniform(5, 10))\n",
        "\n",
        "print('________________')\n",
        "print('Exemple de la fonction randint: ')\n",
        "for i in range (3):\n",
        "  print (random.randint(5, 10))"
      ],
      "metadata": {
        "colab": {
          "base_uri": "https://localhost:8080/"
        },
        "id": "Fxj-w5mS9-BN",
        "outputId": "7f0f7d01-dd1b-40f1-de0e-a8f89cae4214"
      },
      "execution_count": 7,
      "outputs": [
        {
          "output_type": "stream",
          "name": "stdout",
          "text": [
            "Exemple de la fonction uniform:\n",
            "5.897870799238333\n",
            "6.312018613239374\n",
            "8.734889890845475\n",
            "________________\n",
            "Exemple de la fonction randint: \n",
            "5\n",
            "9\n",
            "9\n"
          ]
        }
      ]
    },
    {
      "cell_type": "code",
      "source": [
        "#Générer un nombre aléatoire selon une distribution donnée\n",
        "  #Exemple de la loi normale : loi de probabilité pour modéliser des phénomènes naturel\n",
        "  #--> La majeure partie des individus se situent autour d'une moyenne (ex : répartition de la pop par QI)\n",
        "#Le modul Random permet de générer des nombres aléatoires selon cette loi\n",
        "  #--> La fonction correspondante est gauss(moyenne, écart-type)\n",
        "  #Exemple avec une loi centrée en 0 et avec un éacrt type de 1 (loi normale \"classique\"):\n",
        "for i in range (10):\n",
        "  print(random.gauss(0, 1))"
      ],
      "metadata": {
        "colab": {
          "base_uri": "https://localhost:8080/"
        },
        "id": "7jKCDefm_Ow5",
        "outputId": "2fe5d255-00f3-4823-cdf3-eb9b2165020f"
      },
      "execution_count": 10,
      "outputs": [
        {
          "output_type": "stream",
          "name": "stdout",
          "text": [
            "1.0894342571420856\n",
            "-0.3024200832203458\n",
            "0.5191273228981484\n",
            "-0.4430711694828577\n",
            "-0.7095110959178235\n",
            "-0.017265856233407248\n",
            "0.17167489618369972\n",
            "2.1662688434821216\n",
            "0.21616432368850344\n",
            "1.3450732710189313\n"
          ]
        }
      ]
    },
    {
      "cell_type": "code",
      "source": [
        "#Choisir aléatoirement dans une liste : sous échantillonage\n",
        "#Rappel : pour sélectionner un élément dans une liste : besoin de son indice\n",
        "  #--> Random propose de une fonction permettant de faire la sélection directement sur la liste : choice\n",
        "liste = ['one', 'two', 'three', 'four', 'five']\n",
        "for i in range (3):\n",
        "    print(random.choice(liste))"
      ],
      "metadata": {
        "colab": {
          "base_uri": "https://localhost:8080/"
        },
        "id": "K1j7axD4AviV",
        "outputId": "b3d43f7e-4c9f-404c-bef8-d15313593035"
      },
      "execution_count": 11,
      "outputs": [
        {
          "output_type": "stream",
          "name": "stdout",
          "text": [
            "two\n",
            "one\n",
            "two\n"
          ]
        }
      ]
    },
    {
      "cell_type": "code",
      "source": [
        "#L'évolution de celle-ci est la fonction choices, qui permet de selectionner un échantillon de la liste initiale avec remise\n",
        "liste = ['one', 'two', 'three', 'four', 'five']\n",
        "print(random.choices(liste, k=2))\n",
        "print(random.choices(liste, k=3))"
      ],
      "metadata": {
        "colab": {
          "base_uri": "https://localhost:8080/"
        },
        "id": "X56ujXp_Bj_6",
        "outputId": "1b501080-9fcb-472c-bdc8-5d10909d7355"
      },
      "execution_count": 13,
      "outputs": [
        {
          "output_type": "stream",
          "name": "stdout",
          "text": [
            "['four', 'two']\n",
            "['one', 'three', 'four']\n"
          ]
        }
      ]
    },
    {
      "cell_type": "code",
      "source": [
        "#Pour un échantillon sans remise, la fonction est sample :\n",
        "liste = ['one', 'two', 'three', 'four', 'five']\n",
        "print(random.sample(liste, 2))\n",
        "print(random.sample(liste, 3))"
      ],
      "metadata": {
        "colab": {
          "base_uri": "https://localhost:8080/"
        },
        "id": "wZLc5pqwCTbq",
        "outputId": "d0a99ecd-5d93-413f-caa0-4c873ebf2215"
      },
      "execution_count": 14,
      "outputs": [
        {
          "output_type": "stream",
          "name": "stdout",
          "text": [
            "['two', 'three']\n",
            "['five', 'one', 'two']\n"
          ]
        }
      ]
    }
  ]
}