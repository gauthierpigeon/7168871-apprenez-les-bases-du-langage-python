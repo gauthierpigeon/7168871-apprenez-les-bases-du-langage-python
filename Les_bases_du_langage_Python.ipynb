{
  "nbformat": 4,
  "nbformat_minor": 0,
  "metadata": {
    "colab": {
      "provenance": [],
      "authorship_tag": "ABX9TyNoltz4hKObynXe1knyso/m",
      "include_colab_link": true
    },
    "kernelspec": {
      "name": "python3",
      "display_name": "Python 3"
    },
    "language_info": {
      "name": "python"
    }
  },
  "cells": [
    {
      "cell_type": "markdown",
      "metadata": {
        "id": "view-in-github",
        "colab_type": "text"
      },
      "source": [
        "<a href=\"https://colab.research.google.com/github/gauthierpigeon/7168871-apprenez-les-bases-du-langage-python/blob/main/Les_bases_du_langage_Python.ipynb\" target=\"_parent\"><img src=\"https://colab.research.google.com/assets/colab-badge.svg\" alt=\"Open In Colab\"/></a>"
      ]
    },
    {
      "cell_type": "code",
      "source": [
        "#***** PARTIE 1 : VARIABLES, LISTES, DICTIONNAIRES ETC.*****\n",
        "\n",
        "\n",
        "#Méthode f-string\n",
        "  #--> Permet d'insérer facilement des variables dans la chaine de caractère à afficher\n",
        "nom = \"Dupont\"\n",
        "prenom = \"Jean\"\n",
        "age = \"30\"\n",
        "\n",
        "print (f\"Bonjour, je m'appelle {prenom} {nom} et j'ai {age} ans\")"
      ],
      "metadata": {
        "colab": {
          "base_uri": "https://localhost:8080/"
        },
        "id": "wJKp5KQKDD9P",
        "outputId": "2f27cb4f-98d2-439c-ce88-166a5c70fc3f"
      },
      "execution_count": 1,
      "outputs": [
        {
          "output_type": "stream",
          "name": "stdout",
          "text": [
            "Bonjour, je m'appelle Jean Dupont et j'ai 30 ans\n"
          ]
        }
      ]
    },
    {
      "cell_type": "code",
      "source": [
        "#Exercice\n",
        "#1. Créez une variable nommée `nom` et attribuez-y votre **nom**.\n",
        "nom = \"Gauthier\"\n",
        "#2. Créez une variable nommée `age` et attribuez-y votre **âge**.\n",
        "age = 34\n",
        "#3. Affichez une phrase contenant votre **nom** et votre **âge** en utilisant les variables que vous venez de créer. Par exemple, `\"Je m'appelle Jean et j'ai 25 ans.\"` (Utilisez le f-string)\n",
        "print(f\"Je m'appelle {nom} et j'ai {age} ans\")\n",
        "#4. Modifiez la valeur de la variable age pour ajouter **10 ans** à votre **âge** actuel.\n",
        "age +=10\n",
        "#5. Affichez à nouveau la phrase contenant votre **nom** et votre **âge** en utilisant les variables mises à jour. Par exemple, `\"Je m'appelle Jean et j'ai 35 ans maintenant.\"` (Utilisez le f-string)\n",
        "print(f\"Je m'appelle {nom} et j'ai {age} ans\")"
      ],
      "metadata": {
        "colab": {
          "base_uri": "https://localhost:8080/"
        },
        "id": "EF9x6Ql9AhVR",
        "outputId": "b01b7276-ff50-4684-e3c3-4be464f7cdf0"
      },
      "execution_count": 4,
      "outputs": [
        {
          "output_type": "stream",
          "name": "stdout",
          "text": [
            "Je m'appelle Gauthier et j'ai 34 ans\n",
            "Je m'appelle Gauthier et j'ai 44 ans\n"
          ]
        }
      ]
    },
    {
      "cell_type": "code",
      "source": [
        "#Exercice\n",
        "# Instructions\n",
        "\n",
        "#1. Définissez une variable `nom` contenant votre **nom** sous forme de chaîne de caractères.\n",
        "nom = \"Gauthier\"\n",
        "#2. Définissez une variable `age` contenant votre **âge** sous forme d'un entier.\n",
        "age = 34\n",
        "#3. Définissez une variable `taille` contenant votre **taille** sous forme d'un nombre à virgule flottante.\n",
        "taille = 1.82\n",
        "#4. Définissez une variable `est_etudiant` contenant une valeur booléenne et indiquant si vous êtes **étudiant ou non**.\n",
        "est_etudiant = False\n",
        "#5. Utilisez la fonction `print` pour afficher les valeurs des variables précédemment définies.\n",
        "\n",
        "#Les prints doivent être sous la forme suivantes :\n",
        "#* \"Nom: `valeur de la variable nom`\"\n",
        "#* \"Age: `valeur de la variable age`\"\n",
        "#* \"Taille: `valeur de la variable taille`\"\n",
        "#* \"Est étudiant: `valeur de la variable est_etudiant`\"\n",
        "print(f\"Nom : {nom}\")\n",
        "print(f\"Age : {age}\")\n",
        "print(f\"Taille : {taille}\")\n",
        "print(f\"Est étudiant : {est_etudiant}\")\n",
        "\n",
        "#6. Utilisez la fonction `type` pour afficher avec la fonction `print` les types des variables précédemment définies.\n",
        "\n",
        "#Les prints doivent être sous la forme suivantes :\n",
        "#* \"Type nom: `type de la variable nom`\"\n",
        "#* \"Type age: `type de la variable age`\"\n",
        "#* \"Type taille: `type de la variable taille`\"\n",
        "#* \"Type est étudiant: `type de la variable est_etudiant`\"\n",
        "print(f\"Type nom :{type (nom)}\")\n",
        "print(f\"Type nom :{type (age)}\")\n",
        "print(f\"Type nom :{type (taille)}\")\n",
        "print(f\"Type nom :{type (est_etudiant)}\")"
      ],
      "metadata": {
        "colab": {
          "base_uri": "https://localhost:8080/"
        },
        "id": "gcCOO7ywDRI3",
        "outputId": "27a2ea5e-009e-4d77-80d8-e250a12e8146"
      },
      "execution_count": 19,
      "outputs": [
        {
          "output_type": "stream",
          "name": "stdout",
          "text": [
            "Nom : Gauthier\n",
            "Age : 34\n",
            "Taille : 1.82\n",
            "Est étudiant : False\n",
            "Type nom :<class 'str'>\n",
            "Type nom :<class 'int'>\n",
            "Type nom :<class 'float'>\n",
            "Type nom :<class 'bool'>\n"
          ]
        }
      ]
    },
    {
      "cell_type": "code",
      "source": [
        "#Gestion des listes\n",
        "plateformes_sociales = [\"Facebook\", \"Instagram\", \"Snapchat\", \"Twitter\"]\n",
        "plateformes_sociales[2] = \"LinkedIn\"\n",
        "plateformes_sociales.append (\"TikTok\")\n",
        "plateformes_sociales.remove(\"Twitter\")\n",
        "print(plateformes_sociales)\n",
        "len(plateformes_sociales)\n",
        "#Méthode sort pour trier les éléments d'une liste\n",
        "plateformes_sociales.sort()"
      ],
      "metadata": {
        "colab": {
          "base_uri": "https://localhost:8080/"
        },
        "id": "USuZogoTO2EZ",
        "outputId": "5d86ab9f-b852-4826-f676-67b0bd4f7f1c"
      },
      "execution_count": 25,
      "outputs": [
        {
          "output_type": "stream",
          "name": "stdout",
          "text": [
            "['Facebook', 'Instagram', 'LinkedIn', 'TikTok']\n"
          ]
        }
      ]
    },
    {
      "cell_type": "code",
      "source": [
        "#Gestion des tuples\n",
        "  #--> Autre strcuture qui sert à enregistrer des données.\n",
        "  #Se caractérisent par des () et non des [] comme les listes\n",
        "  #Les tuples sont immutables\n",
        "plateformes_sociales_tuples =(\"Facebook\", \"Instagram\", \"TikTok\", \"Twitter\")"
      ],
      "metadata": {
        "id": "xfW4agRaber_"
      },
      "execution_count": null,
      "outputs": []
    },
    {
      "cell_type": "code",
      "source": [
        "#Exercice\n",
        "#1. **Créez** une liste nommée `fruits` contenant les éléments `\"pomme\"`, `\"banane\"` et `\"orange\"`.\n",
        "fruits =[\"Pomme\", \"Banane\", \"Orange\"]\n",
        "#2. **Ajoutez** `\"kiwi\"` à la liste `fruits`.\n",
        "fruits.append(\"Kiwi\")\n",
        "#3. **Supprimez** `\"orange\"` de la liste `fruits`.\n",
        "fruits.remove(\"Orange\")\n",
        "#4. **Modifiez** le **deuxième** élément de la liste `fruits` en `\"ananas\"`.\n",
        "fruits[1] =(\"Ananas\")\n",
        "#5. **Affichez** la **longueur** de la liste `fruits`.\n",
        "len(fruits)\n",
        "#6. **Triez** la liste `fruits` par ordre alphabétique\n",
        "fruits.sort()\n",
        "#7. **Affichez** la liste. *(N'oubliez pas d'afficher la liste pour que les tests passent)*\n",
        "print(fruits)"
      ],
      "metadata": {
        "colab": {
          "base_uri": "https://localhost:8080/"
        },
        "id": "YAau7VjmdwtU",
        "outputId": "99835079-2640-4e45-995a-fed8e42f0b40"
      },
      "execution_count": 28,
      "outputs": [
        {
          "output_type": "stream",
          "name": "stdout",
          "text": [
            "['Ananas', 'Kiwi', 'Pomme']\n"
          ]
        }
      ]
    },
    {
      "cell_type": "code",
      "source": [
        "#Dictionnaires\n",
        "#Exemple de dictionnaire :\n",
        "nouvelle_campagne = {\n",
        "\"responsable_campagne\" : \"Jeanne d'Arc\",\n",
        "\"nom_de_campagne\" : \"Campagne nous aimons les chiens\",\n",
        "\"date_de_début\" : \"01/01/2020\",\n",
        "\"influenceurs_importants\" : [\"@MonAmourDeChien\",\"@MeilleuresFriandisesPourChiens\"]\n",
        "}\n",
        "#Autres exemples de dictionnaires : avec accolades vides {} ou la fonction dict()\n",
        "taux_de_conversion = {}\n",
        "taux_de_conversion['facebook'] = 3.4\n",
        "taux_de_conversion['instagram'] = 1.2\n",
        "taux_de_conversion = dict()\n",
        "taux_de_conversion['facebook'] = 3.4\n",
        "taux_de_conversion['instagram'] = 1.2\n",
        "#Accéder à une valeur dans un dictionnaire\n",
        "nouvelle_campagne['responsable_campagne']\n",
        "taux_de_conversion['facebook']"
      ],
      "metadata": {
        "colab": {
          "base_uri": "https://localhost:8080/"
        },
        "id": "nN48McQCLvp5",
        "outputId": "e0074aec-2d26-43f0-9134-d88f4aea5dda"
      },
      "execution_count": 31,
      "outputs": [
        {
          "output_type": "execute_result",
          "data": {
            "text/plain": [
              "3.4"
            ]
          },
          "metadata": {},
          "execution_count": 31
        }
      ]
    },
    {
      "cell_type": "code",
      "source": [
        "#Ajouter une paire clé-valeur dans un dictionnaire\n",
        "infos_labradoodle = {\n",
        "    \"poids\" : \"13 à 16 kg\",\n",
        "    \"origine\" : \"Etats-Unis\"\n",
        "}\n",
        "infos_labradoodle['nom_scientifique'] = \"Canis lupus familiaris\"\n",
        "print(infos_labradoodle)"
      ],
      "metadata": {
        "colab": {
          "base_uri": "https://localhost:8080/"
        },
        "id": "5nsoEPksVBVs",
        "outputId": "895e0fec-b77b-42a3-8641-51bbaf17ee6e"
      },
      "execution_count": 33,
      "outputs": [
        {
          "output_type": "stream",
          "name": "stdout",
          "text": [
            "{'poids': '13 à 16 kg', 'origine': 'Etats-Unis', 'nom_scientifique': 'Canis lupus familiaris'}\n"
          ]
        }
      ]
    },
    {
      "cell_type": "code",
      "source": [
        "infos_labradoodle = {\n",
        "    \"poids\" : \"13 à 16 kg\",\n",
        "    \"origine\" : \"Etats-Unis\"\n",
        "}\n",
        "infos_labradoodle['nom_scientifique'] = \"Canis lupus familiaris\"\n",
        "#Ecraser une valeur existante\n",
        "infos_labradoodle[\"poids\"] = \"45 kg\"\n",
        "#Supprimer une pare clé-valeur\n",
        "del infos_labradoodle[\"origine\"]\n",
        "print(infos_labradoodle)"
      ],
      "metadata": {
        "colab": {
          "base_uri": "https://localhost:8080/"
        },
        "id": "-ihTFDKtWLSB",
        "outputId": "d688a0c3-b805-45dd-a326-0dd0478e9f1b"
      },
      "execution_count": 43,
      "outputs": [
        {
          "output_type": "stream",
          "name": "stdout",
          "text": [
            "{'poids': '45 kg', 'nom_scientifique': 'Canis lupus familiaris'}\n"
          ]
        }
      ]
    },
    {
      "cell_type": "code",
      "source": [
        "#Vérifier l'existence d'une clé spécifique\n",
        "infos_labradoodle = {\n",
        "    \"poids\" : \"13 à 16 kg\",\n",
        "    \"origine\" : \"Etats-Unis\"\n",
        "}\n",
        "\n",
        "\"poids\" in infos_labradoodle"
      ],
      "metadata": {
        "colab": {
          "base_uri": "https://localhost:8080/"
        },
        "id": "vMj_NKajYYWb",
        "outputId": "936215b4-1325-47a2-b4e3-5fed36fd3c45"
      },
      "execution_count": 54,
      "outputs": [
        {
          "output_type": "execute_result",
          "data": {
            "text/plain": [
              "True"
            ]
          },
          "metadata": {},
          "execution_count": 54
        }
      ]
    },
    {
      "cell_type": "code",
      "source": [
        "#Exercice\n",
        "#1. **Créez** un **dictionnaire** appelé `fruits` avec les clés `\"pomme\"`, `\"banane\"` et `\"orange\"`, et respectivement les valeurs `\"rouge\"`, `\"jaune\"` et `\"orange\"`.\n",
        "fruits = {\n",
        "    \"pommes\" : \"rouge\",\n",
        "    \"banane\" : \"jaune\",\n",
        "    \"orange\" : \"orange\",\n",
        "}\n",
        "#2. **Ajoutez** la clé `\"kiwi\"` avec la valeur `\"vert\"` au dictionnaire `fruits`.\n",
        "fruits[\"kiwi\"] = \"vert\"\n",
        "#3. **Accédez** à la valeur correspondant à la clé `\"banane\"` et stockez-la dans une variable appelée `couleur_banane`.\n",
        "couleur_banane = fruits[\"banane\"]\n",
        "#4. **Modifiez** la valeur associée à la clé `\"pomme\"` pour `\"vert\"`.\n",
        "fruits[\"pommes\"] = \"vert\"\n",
        "#5. **Supprimez** la clé `\"banane\"` du dictionnaire `fruits`.\n",
        "del fruits [\"banane\"]\n",
        "#6. **Affichez** les clés restantes dans le dictionnaire.\n",
        "print(fruits)"
      ],
      "metadata": {
        "colab": {
          "base_uri": "https://localhost:8080/"
        },
        "id": "1PjWNrNjZi8y",
        "outputId": "863e1fcb-dc4d-40a1-805e-964e950c3d1f"
      },
      "execution_count": 61,
      "outputs": [
        {
          "output_type": "stream",
          "name": "stdout",
          "text": [
            "{'pommes': 'vert', 'orange': 'orange', 'kiwi': 'vert'}\n"
          ]
        }
      ]
    },
    {
      "cell_type": "code",
      "source": [
        "#***** PARTIE 2 : CONDITIONS\n",
        "\n",
        "\n",
        "#Définir des conditions avec les instructions if/else\n",
        "ensoleille = True\n",
        "if ensoleille:\n",
        "    print(\"On va à la plage !\")\n",
        "else:\n",
        "    print(\"On reste à la maison\")"
      ],
      "metadata": {
        "colab": {
          "base_uri": "https://localhost:8080/"
        },
        "id": "Awap89ZJf9X9",
        "outputId": "4d32dd42-a0ff-48f9-c9c1-54df4cc231da"
      },
      "execution_count": 62,
      "outputs": [
        {
          "output_type": "stream",
          "name": "stdout",
          "text": [
            "On va à la plage !\n"
          ]
        }
      ]
    },
    {
      "cell_type": "code",
      "source": [
        "#Définir des conditions alternatives en ajoutant une clause elif\n",
        "  #--> elif : permet d'ajouter autant de conditions qu'on souhaite\n",
        "ensoleille = False\n",
        "neige = True\n",
        "if ensoleille:\n",
        "    print(\"On va à la plage !\")\n",
        "elif neige :\n",
        "    print(\"On fait un bonhomme de neige !\")\n",
        "else:\n",
        "    print(\"On reste à la maison\")"
      ],
      "metadata": {
        "colab": {
          "base_uri": "https://localhost:8080/"
        },
        "id": "kaV4rUrRk_x4",
        "outputId": "1d324d77-1946-4d87-ff22-940f38d4d209"
      },
      "execution_count": 63,
      "outputs": [
        {
          "output_type": "stream",
          "name": "stdout",
          "text": [
            "On fait un bonhomme de neige !\n"
          ]
        }
      ]
    },
    {
      "cell_type": "code",
      "source": [
        "#Définir des conditions multiples avec des opérateurs logiques (and / or / not)\n",
        "avec_soleil = True\n",
        "en_semaine = False\n",
        "if avec_soleil and not en_semaine:\n",
        "    print(\"On va à la plage !\")\n",
        "elif avec_soleil and en_semaine:\n",
        "    print(\"On va au travail !\")\n",
        "else:\n",
        "    print(\"On reste à la maison !\")"
      ],
      "metadata": {
        "colab": {
          "base_uri": "https://localhost:8080/"
        },
        "id": "I1xyRdFOmd4Q",
        "outputId": "2e9f1558-1483-4204-f151-e0c4c51c2258"
      },
      "execution_count": 64,
      "outputs": [
        {
          "output_type": "stream",
          "name": "stdout",
          "text": [
            "On va à la plage !\n"
          ]
        }
      ]
    },
    {
      "cell_type": "code",
      "source": [
        "#Définir des conditions complexes avec des expressions comparatives\n",
        "  #--> Egal à : a ==b\n",
        "  #--> Non egal à : a!= b\n",
        "  #--> Moins que : a < b\n",
        "  #--> Moins que ou égal à : a <= b\n",
        "  #--> Plus que : a > b\n",
        "  #--> Plus que ou égal à : a >= b"
      ],
      "metadata": {
        "id": "6BN1Jb8xuTwh"
      },
      "execution_count": null,
      "outputs": []
    },
    {
      "cell_type": "code",
      "source": [
        "#Simplifier le code avec des match cases\n",
        "  #--> Fonctionnalité qui permet de faciliter la comparaison de valeurs\n",
        "  #--> Le mot-clé : match, utilisé en début de bloc, suivi d'une variable à évaluer\n",
        "  #--> Le mot clé : case, utilisé pour vérifier si une valeur donnée correspond à une condition spécifique dans ce bloc\n",
        "#Exemple :\n",
        "fruit = \"orange\"\n",
        "match fruit:\n",
        "  case \"pomme\":\n",
        "    print(\"J'aime les pommes !\")\n",
        "  case \"banane\":\n",
        "    print(\"Je n'aime pas les bananes\")\n",
        "  case \"orange\":\n",
        "    print(\"Les oranges sont bonnes pour la santé\")\n",
        "  case _:\n",
        "    print(\"Je ne connais pas ce fruit\")"
      ],
      "metadata": {
        "colab": {
          "base_uri": "https://localhost:8080/"
        },
        "id": "j76H6VUFCdpA",
        "outputId": "6b143c01-2325-4d02-9c5e-f1c0ebf0bcdd"
      },
      "execution_count": 4,
      "outputs": [
        {
          "output_type": "stream",
          "name": "stdout",
          "text": [
            "Les oranges sont bonnes pour la santé\n"
          ]
        }
      ]
    },
    {
      "cell_type": "code",
      "source": [
        "# Exercice\n",
        "\n",
        "#Vous allez créer une calculatrice qui permettra d'effectuer une opération simple entre deux nombres. Vous devrez donc créer deux variables pour stocker les deux nombres, et une variable pour stocker le symbole qui représentera l'opération à effectuer. Vous devrez d'abord créer une structure conditionnelle qui vérifiera la validité des variables et du symbole. Ensuite, vous devrez créer une deuxième structure conditionnelle pour effectuer l'opération en fonction du symbole choisi. Ne vous inquiétez pas, l’exercice sera guidé par des questions. C’est parti ! À vous de jouer !\n",
        "\n",
        "# Instructions\n",
        "\n",
        "#### 1. Créez deux variables `nombre_a_gauche` et `nombre_a_droite` , et affectez-leur chacune un nombre entier à l'aide d'un input.\n",
        "  #--> La valeur pour **chaque variable** doit être assigné à l'aide de la fonction `input()` qui permet de demander à l'utilisateur d'entrer une chaine de caractère.\n",
        "  nombre_a_gauche = input(\"Entrez un nombre entier : \")\n",
        "  nombre_a_droite = input(\"Entrez un nombre entier : \")\n",
        "\n",
        "#### 2. Créez une variable `operation` pour stocker le symbole d'opération **(+, -, * ou /)**. L'opérateur sera aussi demander à l'aide de la fonction `input()`.\n",
        "  operation = input(\"Entrez l'opération souhaitée ['+', '-', '*', ou '/'] : \")\n",
        "\n",
        "#### 3. Créez une dernière variable `resultat` initialisée à 0, qui contiendra ensuite le résultat du calcul.\n",
        "  resultat = 0\n",
        "\n",
        "#### 4. Vérifier les deux nombres entiers\n",
        "#* Vérifiez que les **deux variables** `nombre_a_gauche` et `nombre_a_droite` sont bien des nombres entiers à l'aide de la fonction `isnumeric()`.\n",
        "#* Si l'une ou les deux ne sont pas des entiers, affichez un message d'erreur correspondant et quittez le programme. Affichez le message suivant : `Erreur: les deux nombres doivent être des nombres entiers` *(Faite un copier-coller pour éviter que le test ne passe pas)*\n",
        "#* Sinon convertissez les en entier à l'aide de la fonction `int()`.\n",
        "  if not nombre_a_gauche.isnumeric() or not nombre_a_droite.isnumeric():\n",
        "    print(\"Erreur: les deux nombres doivent être des nombres entiers\")\n",
        "  else:\n",
        "    nombre_a_gauche = int(nombre_a_gauche)\n",
        "    nombre_a_droite = int(nombre_a_droite)\n",
        "\n",
        "#### 5. Vérifier le symbole\n",
        "#* Vérifiez que le symbole stocké dans la variable `operation` correspond bien à une des 4 opérations autorisées (+, -, * ou /) à l’aide d'une structure `match` et effectuez le calcul correspondant dans chaque cas. Stockez le résultat dans la variable `resultat`.\n",
        "#* Si le symbole n'est pas correct, affichez un message d'erreur correspondant, et quittez le programme. (**Indice** : *pensez à la valeur par défaut*) Affichez le message suivant : `Erreur: le symbole d'opération doit être '+', '-', '*' ou '/'.` *(Faite un copier-coller pour éviter que le test ne passe pas)*\n",
        "#* Il est impossible de diviser un nombre par 0, il faut donc prévoir une structure conditionnelle supplémentaire pour vérifier ce cas dans la structure `match` . Utilisez les conditions if-else pour réaliser cette opération ; s’il y a une division par 0, affichez `Erreur: impossible de diviser par zéro.`(Faite un copier-coller pour éviter que le test ne passe pas) , sinon stockez le calcul dans la variable `resultat` .\n",
        "    match operation:\n",
        "      case \"+\":\n",
        "        resultat = nombre_a_gauche + nombre_a_droite\n",
        "      case \"-\":\n",
        "        resultat = nombre_a_gauche - nombre_a_droite\n",
        "      case \"*\":\n",
        "        resultat = nombre_a_gauche * nombre_a_droite\n",
        "      case \"/\":\n",
        "        if nombre_a_droite == 0:\n",
        "          print(\"Erreur : impossible de diviser par zéro\")\n",
        "        else:\n",
        "          resultat = nombre_a_gauche / nombre_a_droite\n",
        "      case _:\n",
        "        print(\"Erreur : le symbole d'opération doit être '+', '-', '*', ou '/'\")\n",
        "\n",
        "#### 6. Affichez le résultat contenu dans la variable `resultat` .\n",
        "  print(f\"Le résultat de l'opération est : {resultat}\")\n",
        "#**Attention** : Dans cet exercice, écrivez votre code dans la partie située sous la ligne `def main()`. **Assurez-vous donc de tout indenter d'un cran** pour que votre code fonctionne correctement. Nous avons enveloppé votre code dans ce qu'on appelle une fonction, pour tester votre code nous avons dû imbriquer votre code dans cette fonction.\n"
      ],
      "metadata": {
        "id": "0Wfyfem8E6gC"
      },
      "execution_count": null,
      "outputs": []
    },
    {
      "cell_type": "code",
      "source": [
        "#Répéter des tâches à l'aide des boucles\n",
        "\n",
        "#Boucle FOR : utilisée pour itérer sur une séquence. Avec une boucle FOR, on peut éxécuter le même code pour chaque élément dans cette séquence\n",
        "# On utilise cette boucle quand on connait à l'avance le nombre d'itérations à effectuer\n",
        "races_de_chien = [\"golden retriever\", \"chihuahua\", \"terrier\", \"carlin\"]\n",
        "for chien in races_de_chien:\n",
        "  print(chien)"
      ],
      "metadata": {
        "colab": {
          "base_uri": "https://localhost:8080/"
        },
        "id": "LAhUgT47UYxe",
        "outputId": "a8d8521b-7eeb-4e3b-d7cb-0c2695ecf89d"
      },
      "execution_count": 10,
      "outputs": [
        {
          "output_type": "stream",
          "name": "stdout",
          "text": [
            "golden retriever\n",
            "chihuahua\n",
            "terrier\n",
            "carlin\n"
          ]
        }
      ]
    },
    {
      "cell_type": "code",
      "source": [
        "#Pour boucler un certain nombre de fois : utiliser la fonction range()\n",
        "for x in range(5):\n",
        "  print(x)"
      ],
      "metadata": {
        "colab": {
          "base_uri": "https://localhost:8080/"
        },
        "id": "gY9sK30qYgS6",
        "outputId": "40288cd7-9707-494e-9985-089e8f1e0250"
      },
      "execution_count": 11,
      "outputs": [
        {
          "output_type": "stream",
          "name": "stdout",
          "text": [
            "0\n",
            "1\n",
            "2\n",
            "3\n",
            "4\n"
          ]
        }
      ]
    },
    {
      "cell_type": "code",
      "source": [
        "for x in range(100):\n",
        "  print(f\"{x} bouteilles de bières au mur !\")"
      ],
      "metadata": {
        "id": "d545FX5gY21y"
      },
      "execution_count": null,
      "outputs": []
    },
    {
      "cell_type": "code",
      "source": [
        "#Utiliser la boucle WHILE\n",
        "\n",
        "#Elle continue de s'exécuter jusqu'à qu'une certaine condition soit remplie\n",
        "#On utilise cette boucle quand on ne connait pas à l'avance le nombre d'iétrations à effectuer\n",
        "capacite_maximale = 10\n",
        "capacite_actuelle = 3\n",
        "while capacite_actuelle < capacite_maximale:\n",
        "  capacite_actuelle += 1"
      ],
      "metadata": {
        "id": "TRBtSUy_ZWS1"
      },
      "execution_count": 16,
      "outputs": []
    },
    {
      "cell_type": "code",
      "source": [
        "#Boucle infinies : si la condition régéle est toujours vraie : la boucle va s'exécuter pour toujours\n",
        "#Exemple :\n",
        "x = 0\n",
        "while x != 5:\n",
        "  x += 2\n",
        "#Dans cette situation : x n'atteindra jamais 5"
      ],
      "metadata": {
        "id": "5yMKN6tbaDRo"
      },
      "execution_count": null,
      "outputs": []
    },
    {
      "cell_type": "code",
      "source": [
        "#Utliser les mots-clés BREAK et CONTINUE\n",
        "\n",
        "#BREAK : permet de sortir d'une boucle prématurément\n",
        "for i in range (10):\n",
        "  if i == 5:\n",
        "    break\n",
        "  print(i)\n",
        "\n",
        "#CONTINUE permet de passer à la prochaine itération de la boucle\n",
        "liste = [1, 2, 3, 4, 5]\n",
        "for element in liste:\n",
        "  if element == 3:\n",
        "    continue\n",
        "  print(element)"
      ],
      "metadata": {
        "colab": {
          "base_uri": "https://localhost:8080/"
        },
        "id": "lSoQQhtGa0Hl",
        "outputId": "85ddd323-66c6-4fb0-ecd7-0914cb2c37f9"
      },
      "execution_count": 20,
      "outputs": [
        {
          "output_type": "stream",
          "name": "stdout",
          "text": [
            "0\n",
            "1\n",
            "2\n",
            "3\n",
            "4\n",
            "1\n",
            "2\n",
            "4\n",
            "5\n"
          ]
        }
      ]
    },
    {
      "cell_type": "code",
      "source": [
        "#Exercice\n",
        "\n",
        "#1 - Récupérer la saisie de l'utilisateur\n",
        "liste = input(\"Entrez une liste nombres entiers séparé par une virgule\")\n",
        "\n",
        "#2- Séparer l'ensemble des nombres et les insérer dans une liste\n",
        "liste = liste.split(\",\")\n",
        "\n",
        "#3- Afficher la liste des nombres\n",
        "print(\"Liste des nombres:\", liste)\n",
        "\n",
        "#4- Calculer la somme des nombres\n",
        "somme = 0\n",
        "for nombre in liste:\n",
        "  somme += int(nombre)\n",
        "print(\"Somme des nombres\", somme)\n",
        "\n",
        "#5- Effectuer la moyenne à l'aide de la somme des nombres\n",
        "moyenne = somme / len(liste)\n",
        "print(\"Moyenne des nombres:\", moyenne)\n",
        "\n",
        "#6- Trouver le nombre entier supérieur à la moyenne\n",
        "nombre_sup_moyenne = 0\n",
        "for nombre in liste:\n",
        "    if int(nombre) > moyenne:\n",
        "      nombre_sup_moyenne += 1\n",
        "print(\"Nombre de nombres supérieurs à la moyenne:\", nombre_sup_moyenne)\n",
        "\n",
        "#7- trouver le nombre d'entiers pair\n",
        "nombre_pairs = 0\n",
        "i = 0\n",
        "while i < len(liste):\n",
        "  if int(liste[i]) % 2 == 0:\n",
        "    nombre_pairs += 1\n",
        "  i += 1\n",
        "print(\"Nombre de nombres pairs:\", nombre_pairs)"
      ],
      "metadata": {
        "colab": {
          "base_uri": "https://localhost:8080/"
        },
        "id": "bgGlLDncoB_y",
        "outputId": "231f7b80-bac6-44fd-a5c6-134d635fa4e6"
      },
      "execution_count": 36,
      "outputs": [
        {
          "output_type": "stream",
          "name": "stdout",
          "text": [
            "Entrez une liste nombres entiers séparé par une virgule1,2,3,4\n",
            "Liste des nombres: ['1', '2', '3', '4']\n",
            "Somme des nombres 10\n",
            "Moyenne des nombres: 2.5\n",
            "Nombre de nombres supérieurs à la moyenne: 2\n",
            "Nombre de nombres pairs: 2\n"
          ]
        }
      ]
    }
  ]
}